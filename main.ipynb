{
  "nbformat": 4,
  "nbformat_minor": 0,
  "metadata": {
    "colab": {
      "name": "Untitled0.ipynb",
      "provenance": []
    },
    "kernelspec": {
      "name": "python3",
      "display_name": "Python 3"
    },
    "language_info": {
      "name": "python"
    }
  },
  "cells": [
    {
      "cell_type": "code",
      "metadata": {
        "colab": {
          "base_uri": "https://localhost:8080/"
        },
        "id": "gXtSwolJi4Ay",
        "outputId": "a9303b93-f60f-4ffe-a509-8f8dbae09ad4"
      },
      "source": [
        "!pip install tensorflow-gpu==2.0.0-alpha0\n",
        "!pip install pandas-datareader"
      ],
      "execution_count": 3,
      "outputs": [
        {
          "output_type": "stream",
          "text": [
            "Requirement already satisfied: tensorflow-gpu==2.0.0-alpha0 in /usr/local/lib/python3.7/dist-packages (2.0.0a0)\n",
            "Requirement already satisfied: six>=1.10.0 in /usr/local/lib/python3.7/dist-packages (from tensorflow-gpu==2.0.0-alpha0) (1.15.0)\n",
            "Requirement already satisfied: wheel>=0.26 in /usr/local/lib/python3.7/dist-packages (from tensorflow-gpu==2.0.0-alpha0) (0.36.2)\n",
            "Requirement already satisfied: astor>=0.6.0 in /usr/local/lib/python3.7/dist-packages (from tensorflow-gpu==2.0.0-alpha0) (0.8.1)\n",
            "Requirement already satisfied: tf-estimator-nightly<1.14.0.dev2019030116,>=1.14.0.dev2019030115 in /usr/local/lib/python3.7/dist-packages (from tensorflow-gpu==2.0.0-alpha0) (1.14.0.dev2019030115)\n",
            "Requirement already satisfied: absl-py>=0.7.0 in /usr/local/lib/python3.7/dist-packages (from tensorflow-gpu==2.0.0-alpha0) (0.12.0)\n",
            "Requirement already satisfied: grpcio>=1.8.6 in /usr/local/lib/python3.7/dist-packages (from tensorflow-gpu==2.0.0-alpha0) (1.34.1)\n",
            "Requirement already satisfied: gast>=0.2.0 in /usr/local/lib/python3.7/dist-packages (from tensorflow-gpu==2.0.0-alpha0) (0.2.2)\n",
            "Requirement already satisfied: numpy<2.0,>=1.14.5 in /usr/local/lib/python3.7/dist-packages (from tensorflow-gpu==2.0.0-alpha0) (1.19.5)\n",
            "Requirement already satisfied: google-pasta>=0.1.2 in /usr/local/lib/python3.7/dist-packages (from tensorflow-gpu==2.0.0-alpha0) (0.2.0)\n",
            "Requirement already satisfied: tb-nightly<1.14.0a20190302,>=1.14.0a20190301 in /usr/local/lib/python3.7/dist-packages (from tensorflow-gpu==2.0.0-alpha0) (1.14.0a20190301)\n",
            "Requirement already satisfied: keras-preprocessing>=1.0.5 in /usr/local/lib/python3.7/dist-packages (from tensorflow-gpu==2.0.0-alpha0) (1.1.2)\n",
            "Requirement already satisfied: protobuf>=3.6.1 in /usr/local/lib/python3.7/dist-packages (from tensorflow-gpu==2.0.0-alpha0) (3.12.4)\n",
            "Requirement already satisfied: termcolor>=1.1.0 in /usr/local/lib/python3.7/dist-packages (from tensorflow-gpu==2.0.0-alpha0) (1.1.0)\n",
            "Requirement already satisfied: keras-applications>=1.0.6 in /usr/local/lib/python3.7/dist-packages (from tensorflow-gpu==2.0.0-alpha0) (1.0.8)\n",
            "Requirement already satisfied: werkzeug>=0.11.15 in /usr/local/lib/python3.7/dist-packages (from tb-nightly<1.14.0a20190302,>=1.14.0a20190301->tensorflow-gpu==2.0.0-alpha0) (1.0.1)\n",
            "Requirement already satisfied: markdown>=2.6.8 in /usr/local/lib/python3.7/dist-packages (from tb-nightly<1.14.0a20190302,>=1.14.0a20190301->tensorflow-gpu==2.0.0-alpha0) (3.3.4)\n",
            "Requirement already satisfied: setuptools in /usr/local/lib/python3.7/dist-packages (from protobuf>=3.6.1->tensorflow-gpu==2.0.0-alpha0) (57.0.0)\n",
            "Requirement already satisfied: h5py in /usr/local/lib/python3.7/dist-packages (from keras-applications>=1.0.6->tensorflow-gpu==2.0.0-alpha0) (3.1.0)\n",
            "Requirement already satisfied: importlib-metadata; python_version < \"3.8\" in /usr/local/lib/python3.7/dist-packages (from markdown>=2.6.8->tb-nightly<1.14.0a20190302,>=1.14.0a20190301->tensorflow-gpu==2.0.0-alpha0) (4.5.0)\n",
            "Requirement already satisfied: cached-property; python_version < \"3.8\" in /usr/local/lib/python3.7/dist-packages (from h5py->keras-applications>=1.0.6->tensorflow-gpu==2.0.0-alpha0) (1.5.2)\n",
            "Requirement already satisfied: zipp>=0.5 in /usr/local/lib/python3.7/dist-packages (from importlib-metadata; python_version < \"3.8\"->markdown>=2.6.8->tb-nightly<1.14.0a20190302,>=1.14.0a20190301->tensorflow-gpu==2.0.0-alpha0) (3.4.1)\n",
            "Requirement already satisfied: typing-extensions>=3.6.4; python_version < \"3.8\" in /usr/local/lib/python3.7/dist-packages (from importlib-metadata; python_version < \"3.8\"->markdown>=2.6.8->tb-nightly<1.14.0a20190302,>=1.14.0a20190301->tensorflow-gpu==2.0.0-alpha0) (3.7.4.3)\n",
            "Requirement already satisfied: pandas-datareader in /usr/local/lib/python3.7/dist-packages (0.9.0)\n",
            "Requirement already satisfied: lxml in /usr/local/lib/python3.7/dist-packages (from pandas-datareader) (4.2.6)\n",
            "Requirement already satisfied: requests>=2.19.0 in /usr/local/lib/python3.7/dist-packages (from pandas-datareader) (2.23.0)\n",
            "Requirement already satisfied: pandas>=0.23 in /usr/local/lib/python3.7/dist-packages (from pandas-datareader) (1.1.5)\n",
            "Requirement already satisfied: chardet<4,>=3.0.2 in /usr/local/lib/python3.7/dist-packages (from requests>=2.19.0->pandas-datareader) (3.0.4)\n",
            "Requirement already satisfied: idna<3,>=2.5 in /usr/local/lib/python3.7/dist-packages (from requests>=2.19.0->pandas-datareader) (2.10)\n",
            "Requirement already satisfied: urllib3!=1.25.0,!=1.25.1,<1.26,>=1.21.1 in /usr/local/lib/python3.7/dist-packages (from requests>=2.19.0->pandas-datareader) (1.24.3)\n",
            "Requirement already satisfied: certifi>=2017.4.17 in /usr/local/lib/python3.7/dist-packages (from requests>=2.19.0->pandas-datareader) (2021.5.30)\n",
            "Requirement already satisfied: numpy>=1.15.4 in /usr/local/lib/python3.7/dist-packages (from pandas>=0.23->pandas-datareader) (1.19.5)\n",
            "Requirement already satisfied: python-dateutil>=2.7.3 in /usr/local/lib/python3.7/dist-packages (from pandas>=0.23->pandas-datareader) (2.8.1)\n",
            "Requirement already satisfied: pytz>=2017.2 in /usr/local/lib/python3.7/dist-packages (from pandas>=0.23->pandas-datareader) (2018.9)\n",
            "Requirement already satisfied: six>=1.5 in /usr/local/lib/python3.7/dist-packages (from python-dateutil>=2.7.3->pandas>=0.23->pandas-datareader) (1.15.0)\n"
          ],
          "name": "stdout"
        }
      ]
    },
    {
      "cell_type": "code",
      "metadata": {
        "colab": {
          "base_uri": "https://localhost:8080/"
        },
        "id": "rkiJmOc8i83X",
        "outputId": "b4724822-17a6-4006-a5ba-b4dcdcacd03b"
      },
      "source": [
        "!apt install graphviz\n",
        "!pip install pydot pydot-ng"
      ],
      "execution_count": 4,
      "outputs": [
        {
          "output_type": "stream",
          "text": [
            "Reading package lists... Done\n",
            "Building dependency tree       \n",
            "Reading state information... Done\n",
            "graphviz is already the newest version (2.40.1-2).\n",
            "0 upgraded, 0 newly installed, 0 to remove and 39 not upgraded.\n",
            "Requirement already satisfied: pydot in /usr/local/lib/python3.7/dist-packages (1.3.0)\n",
            "Requirement already satisfied: pydot-ng in /usr/local/lib/python3.7/dist-packages (2.0.0)\n",
            "Requirement already satisfied: pyparsing>=2.1.4 in /usr/local/lib/python3.7/dist-packages (from pydot) (2.4.7)\n"
          ],
          "name": "stdout"
        }
      ]
    },
    {
      "cell_type": "code",
      "metadata": {
        "colab": {
          "base_uri": "https://localhost:8080/",
          "height": 373
        },
        "id": "StsOyitUjKNh",
        "outputId": "37807db1-44f4-4e86-e7e5-799361b3f22d"
      },
      "source": [
        "import numpy as np\n",
        "import matplotlib.pyplot as plt\n",
        "import pandas as pd\n",
        "from pandas_datareader import data\n",
        "\n",
        "tickers = '^BSESN'\n",
        "\n",
        "start_date = '1980-12-01'\n",
        "end_date = '2018-12-31'\n",
        "\n",
        "stock_data = data.get_data_yahoo(tickers, start_date, end_date)\n",
        "\n",
        "stock_data.head(10)"
      ],
      "execution_count": 5,
      "outputs": [
        {
          "output_type": "execute_result",
          "data": {
            "text/html": [
              "<div>\n",
              "<style scoped>\n",
              "    .dataframe tbody tr th:only-of-type {\n",
              "        vertical-align: middle;\n",
              "    }\n",
              "\n",
              "    .dataframe tbody tr th {\n",
              "        vertical-align: top;\n",
              "    }\n",
              "\n",
              "    .dataframe thead th {\n",
              "        text-align: right;\n",
              "    }\n",
              "</style>\n",
              "<table border=\"1\" class=\"dataframe\">\n",
              "  <thead>\n",
              "    <tr style=\"text-align: right;\">\n",
              "      <th></th>\n",
              "      <th>High</th>\n",
              "      <th>Low</th>\n",
              "      <th>Open</th>\n",
              "      <th>Close</th>\n",
              "      <th>Volume</th>\n",
              "      <th>Adj Close</th>\n",
              "    </tr>\n",
              "    <tr>\n",
              "      <th>Date</th>\n",
              "      <th></th>\n",
              "      <th></th>\n",
              "      <th></th>\n",
              "      <th></th>\n",
              "      <th></th>\n",
              "      <th></th>\n",
              "    </tr>\n",
              "  </thead>\n",
              "  <tbody>\n",
              "    <tr>\n",
              "      <th>1997-07-01</th>\n",
              "      <td>4301.770020</td>\n",
              "      <td>4247.660156</td>\n",
              "      <td>4263.109863</td>\n",
              "      <td>4300.859863</td>\n",
              "      <td>0.0</td>\n",
              "      <td>4300.859863</td>\n",
              "    </tr>\n",
              "    <tr>\n",
              "      <th>1997-07-02</th>\n",
              "      <td>4395.310059</td>\n",
              "      <td>4295.399902</td>\n",
              "      <td>4302.959961</td>\n",
              "      <td>4333.899902</td>\n",
              "      <td>0.0</td>\n",
              "      <td>4333.899902</td>\n",
              "    </tr>\n",
              "    <tr>\n",
              "      <th>1997-07-03</th>\n",
              "      <td>4393.290039</td>\n",
              "      <td>4299.970215</td>\n",
              "      <td>4335.790039</td>\n",
              "      <td>4323.459961</td>\n",
              "      <td>0.0</td>\n",
              "      <td>4323.459961</td>\n",
              "    </tr>\n",
              "    <tr>\n",
              "      <th>1997-07-04</th>\n",
              "      <td>4347.589844</td>\n",
              "      <td>4300.580078</td>\n",
              "      <td>4332.700195</td>\n",
              "      <td>4323.819824</td>\n",
              "      <td>0.0</td>\n",
              "      <td>4323.819824</td>\n",
              "    </tr>\n",
              "    <tr>\n",
              "      <th>1997-07-07</th>\n",
              "      <td>4391.009766</td>\n",
              "      <td>4289.490234</td>\n",
              "      <td>4326.810059</td>\n",
              "      <td>4291.450195</td>\n",
              "      <td>0.0</td>\n",
              "      <td>4291.450195</td>\n",
              "    </tr>\n",
              "    <tr>\n",
              "      <th>1997-07-08</th>\n",
              "      <td>4313.000000</td>\n",
              "      <td>4252.490234</td>\n",
              "      <td>4285.649902</td>\n",
              "      <td>4306.390137</td>\n",
              "      <td>0.0</td>\n",
              "      <td>4306.390137</td>\n",
              "    </tr>\n",
              "    <tr>\n",
              "      <th>1997-07-09</th>\n",
              "      <td>4404.830078</td>\n",
              "      <td>4315.419922</td>\n",
              "      <td>4315.419922</td>\n",
              "      <td>4404.689941</td>\n",
              "      <td>0.0</td>\n",
              "      <td>4404.689941</td>\n",
              "    </tr>\n",
              "    <tr>\n",
              "      <th>1997-07-10</th>\n",
              "      <td>4448.060059</td>\n",
              "      <td>4376.109863</td>\n",
              "      <td>4413.390137</td>\n",
              "      <td>4378.370117</td>\n",
              "      <td>0.0</td>\n",
              "      <td>4378.370117</td>\n",
              "    </tr>\n",
              "    <tr>\n",
              "      <th>1997-07-11</th>\n",
              "      <td>4372.750000</td>\n",
              "      <td>4301.930176</td>\n",
              "      <td>4372.750000</td>\n",
              "      <td>4321.979980</td>\n",
              "      <td>0.0</td>\n",
              "      <td>4321.979980</td>\n",
              "    </tr>\n",
              "    <tr>\n",
              "      <th>1997-07-14</th>\n",
              "      <td>4251.700195</td>\n",
              "      <td>4182.419922</td>\n",
              "      <td>4251.700195</td>\n",
              "      <td>4225.020020</td>\n",
              "      <td>0.0</td>\n",
              "      <td>4225.020020</td>\n",
              "    </tr>\n",
              "  </tbody>\n",
              "</table>\n",
              "</div>"
            ],
            "text/plain": [
              "                   High          Low  ...  Volume    Adj Close\n",
              "Date                                  ...                     \n",
              "1997-07-01  4301.770020  4247.660156  ...     0.0  4300.859863\n",
              "1997-07-02  4395.310059  4295.399902  ...     0.0  4333.899902\n",
              "1997-07-03  4393.290039  4299.970215  ...     0.0  4323.459961\n",
              "1997-07-04  4347.589844  4300.580078  ...     0.0  4323.819824\n",
              "1997-07-07  4391.009766  4289.490234  ...     0.0  4291.450195\n",
              "1997-07-08  4313.000000  4252.490234  ...     0.0  4306.390137\n",
              "1997-07-09  4404.830078  4315.419922  ...     0.0  4404.689941\n",
              "1997-07-10  4448.060059  4376.109863  ...     0.0  4378.370117\n",
              "1997-07-11  4372.750000  4301.930176  ...     0.0  4321.979980\n",
              "1997-07-14  4251.700195  4182.419922  ...     0.0  4225.020020\n",
              "\n",
              "[10 rows x 6 columns]"
            ]
          },
          "metadata": {
            "tags": []
          },
          "execution_count": 5
        }
      ]
    },
    {
      "cell_type": "code",
      "metadata": {
        "colab": {
          "base_uri": "https://localhost:8080/",
          "height": 284
        },
        "id": "bs-vWBsOjVgM",
        "outputId": "63b7df8c-7a23-4e14-de47-222dad601b6d"
      },
      "source": [
        "stock_data.describe()"
      ],
      "execution_count": 6,
      "outputs": [
        {
          "output_type": "execute_result",
          "data": {
            "text/html": [
              "<div>\n",
              "<style scoped>\n",
              "    .dataframe tbody tr th:only-of-type {\n",
              "        vertical-align: middle;\n",
              "    }\n",
              "\n",
              "    .dataframe tbody tr th {\n",
              "        vertical-align: top;\n",
              "    }\n",
              "\n",
              "    .dataframe thead th {\n",
              "        text-align: right;\n",
              "    }\n",
              "</style>\n",
              "<table border=\"1\" class=\"dataframe\">\n",
              "  <thead>\n",
              "    <tr style=\"text-align: right;\">\n",
              "      <th></th>\n",
              "      <th>High</th>\n",
              "      <th>Low</th>\n",
              "      <th>Open</th>\n",
              "      <th>Close</th>\n",
              "      <th>Volume</th>\n",
              "      <th>Adj Close</th>\n",
              "    </tr>\n",
              "  </thead>\n",
              "  <tbody>\n",
              "    <tr>\n",
              "      <th>count</th>\n",
              "      <td>5294.000000</td>\n",
              "      <td>5294.000000</td>\n",
              "      <td>5294.000000</td>\n",
              "      <td>5294.000000</td>\n",
              "      <td>5.294000e+03</td>\n",
              "      <td>5294.000000</td>\n",
              "    </tr>\n",
              "    <tr>\n",
              "      <th>mean</th>\n",
              "      <td>14521.989159</td>\n",
              "      <td>14315.116543</td>\n",
              "      <td>14431.281549</td>\n",
              "      <td>14416.056772</td>\n",
              "      <td>3.617737e+04</td>\n",
              "      <td>14416.056772</td>\n",
              "    </tr>\n",
              "    <tr>\n",
              "      <th>std</th>\n",
              "      <td>9966.795656</td>\n",
              "      <td>9880.164236</td>\n",
              "      <td>9933.121309</td>\n",
              "      <td>9921.293057</td>\n",
              "      <td>6.123246e+05</td>\n",
              "      <td>9921.293057</td>\n",
              "    </tr>\n",
              "    <tr>\n",
              "      <th>min</th>\n",
              "      <td>2682.590088</td>\n",
              "      <td>2594.870117</td>\n",
              "      <td>2621.889893</td>\n",
              "      <td>2600.120117</td>\n",
              "      <td>0.000000e+00</td>\n",
              "      <td>2600.120117</td>\n",
              "    </tr>\n",
              "    <tr>\n",
              "      <th>25%</th>\n",
              "      <td>4628.932495</td>\n",
              "      <td>4539.050171</td>\n",
              "      <td>4581.982300</td>\n",
              "      <td>4578.585205</td>\n",
              "      <td>0.000000e+00</td>\n",
              "      <td>4578.585205</td>\n",
              "    </tr>\n",
              "    <tr>\n",
              "      <th>50%</th>\n",
              "      <td>14430.709961</td>\n",
              "      <td>14143.284668</td>\n",
              "      <td>14291.635254</td>\n",
              "      <td>14283.464844</td>\n",
              "      <td>1.140000e+04</td>\n",
              "      <td>14283.464844</td>\n",
              "    </tr>\n",
              "    <tr>\n",
              "      <th>75%</th>\n",
              "      <td>20334.897461</td>\n",
              "      <td>20079.215332</td>\n",
              "      <td>20228.362305</td>\n",
              "      <td>20214.790527</td>\n",
              "      <td>1.840000e+04</td>\n",
              "      <td>20214.790527</td>\n",
              "    </tr>\n",
              "    <tr>\n",
              "      <th>max</th>\n",
              "      <td>38989.648438</td>\n",
              "      <td>38760.578125</td>\n",
              "      <td>38989.648438</td>\n",
              "      <td>38896.628906</td>\n",
              "      <td>2.079310e+07</td>\n",
              "      <td>38896.628906</td>\n",
              "    </tr>\n",
              "  </tbody>\n",
              "</table>\n",
              "</div>"
            ],
            "text/plain": [
              "               High           Low  ...        Volume     Adj Close\n",
              "count   5294.000000   5294.000000  ...  5.294000e+03   5294.000000\n",
              "mean   14521.989159  14315.116543  ...  3.617737e+04  14416.056772\n",
              "std     9966.795656   9880.164236  ...  6.123246e+05   9921.293057\n",
              "min     2682.590088   2594.870117  ...  0.000000e+00   2600.120117\n",
              "25%     4628.932495   4539.050171  ...  0.000000e+00   4578.585205\n",
              "50%    14430.709961  14143.284668  ...  1.140000e+04  14283.464844\n",
              "75%    20334.897461  20079.215332  ...  1.840000e+04  20214.790527\n",
              "max    38989.648438  38760.578125  ...  2.079310e+07  38896.628906\n",
              "\n",
              "[8 rows x 6 columns]"
            ]
          },
          "metadata": {
            "tags": []
          },
          "execution_count": 6
        }
      ]
    },
    {
      "cell_type": "code",
      "metadata": {
        "colab": {
          "base_uri": "https://localhost:8080/"
        },
        "id": "BJLZh5yuju-e",
        "outputId": "53dd7e4f-5ea2-43bb-c7fc-1892bf9c9951"
      },
      "source": [
        "stock_data_len = stock_data['Close'].count()\n",
        "print(stock_data_len)"
      ],
      "execution_count": 7,
      "outputs": [
        {
          "output_type": "stream",
          "text": [
            "5294\n"
          ],
          "name": "stdout"
        }
      ]
    },
    {
      "cell_type": "code",
      "metadata": {
        "colab": {
          "base_uri": "https://localhost:8080/"
        },
        "id": "s7rA9PpUj0Gg",
        "outputId": "fccd9f7f-855e-4a30-b300-b9e035b6b701"
      },
      "source": [
        "close_prices = stock_data.iloc[:, 1:2].values\n",
        "print(close_prices)"
      ],
      "execution_count": 8,
      "outputs": [
        {
          "output_type": "stream",
          "text": [
            "[[ 4247.66015625]\n",
            " [ 4295.39990234]\n",
            " [ 4299.97021484]\n",
            " ...\n",
            " [35781.94921875]\n",
            " [35911.98828125]\n",
            " [36033.94921875]]\n"
          ],
          "name": "stdout"
        }
      ]
    },
    {
      "cell_type": "code",
      "metadata": {
        "colab": {
          "base_uri": "https://localhost:8080/"
        },
        "id": "vjm8-2-Hj20E",
        "outputId": "2c61c902-3956-444f-9646-ad170b9d7e0f"
      },
      "source": [
        "all_bussinessdays = pd.date_range(start=start_date, end=end_date, freq='B')\n",
        "print(all_bussinessdays)"
      ],
      "execution_count": 9,
      "outputs": [
        {
          "output_type": "stream",
          "text": [
            "DatetimeIndex(['1980-12-01', '1980-12-02', '1980-12-03', '1980-12-04',\n",
            "               '1980-12-05', '1980-12-08', '1980-12-09', '1980-12-10',\n",
            "               '1980-12-11', '1980-12-12',\n",
            "               ...\n",
            "               '2018-12-18', '2018-12-19', '2018-12-20', '2018-12-21',\n",
            "               '2018-12-24', '2018-12-25', '2018-12-26', '2018-12-27',\n",
            "               '2018-12-28', '2018-12-31'],\n",
            "              dtype='datetime64[ns]', length=9936, freq='B')\n"
          ],
          "name": "stdout"
        }
      ]
    },
    {
      "cell_type": "code",
      "metadata": {
        "id": "6nF_gF6Cj5mW"
      },
      "source": [
        "close_prices = stock_data.reindex(all_bussinessdays)\n",
        "close_prices = stock_data.fillna(method='ffill')"
      ],
      "execution_count": 10,
      "outputs": []
    },
    {
      "cell_type": "code",
      "metadata": {
        "colab": {
          "base_uri": "https://localhost:8080/",
          "height": 373
        },
        "id": "Kn0hF_bbj7vv",
        "outputId": "9b958676-aefa-4f66-ba1a-667c8e2afedd"
      },
      "source": [
        "close_prices.head(10)\n"
      ],
      "execution_count": 11,
      "outputs": [
        {
          "output_type": "execute_result",
          "data": {
            "text/html": [
              "<div>\n",
              "<style scoped>\n",
              "    .dataframe tbody tr th:only-of-type {\n",
              "        vertical-align: middle;\n",
              "    }\n",
              "\n",
              "    .dataframe tbody tr th {\n",
              "        vertical-align: top;\n",
              "    }\n",
              "\n",
              "    .dataframe thead th {\n",
              "        text-align: right;\n",
              "    }\n",
              "</style>\n",
              "<table border=\"1\" class=\"dataframe\">\n",
              "  <thead>\n",
              "    <tr style=\"text-align: right;\">\n",
              "      <th></th>\n",
              "      <th>High</th>\n",
              "      <th>Low</th>\n",
              "      <th>Open</th>\n",
              "      <th>Close</th>\n",
              "      <th>Volume</th>\n",
              "      <th>Adj Close</th>\n",
              "    </tr>\n",
              "    <tr>\n",
              "      <th>Date</th>\n",
              "      <th></th>\n",
              "      <th></th>\n",
              "      <th></th>\n",
              "      <th></th>\n",
              "      <th></th>\n",
              "      <th></th>\n",
              "    </tr>\n",
              "  </thead>\n",
              "  <tbody>\n",
              "    <tr>\n",
              "      <th>1997-07-01</th>\n",
              "      <td>4301.770020</td>\n",
              "      <td>4247.660156</td>\n",
              "      <td>4263.109863</td>\n",
              "      <td>4300.859863</td>\n",
              "      <td>0.0</td>\n",
              "      <td>4300.859863</td>\n",
              "    </tr>\n",
              "    <tr>\n",
              "      <th>1997-07-02</th>\n",
              "      <td>4395.310059</td>\n",
              "      <td>4295.399902</td>\n",
              "      <td>4302.959961</td>\n",
              "      <td>4333.899902</td>\n",
              "      <td>0.0</td>\n",
              "      <td>4333.899902</td>\n",
              "    </tr>\n",
              "    <tr>\n",
              "      <th>1997-07-03</th>\n",
              "      <td>4393.290039</td>\n",
              "      <td>4299.970215</td>\n",
              "      <td>4335.790039</td>\n",
              "      <td>4323.459961</td>\n",
              "      <td>0.0</td>\n",
              "      <td>4323.459961</td>\n",
              "    </tr>\n",
              "    <tr>\n",
              "      <th>1997-07-04</th>\n",
              "      <td>4347.589844</td>\n",
              "      <td>4300.580078</td>\n",
              "      <td>4332.700195</td>\n",
              "      <td>4323.819824</td>\n",
              "      <td>0.0</td>\n",
              "      <td>4323.819824</td>\n",
              "    </tr>\n",
              "    <tr>\n",
              "      <th>1997-07-07</th>\n",
              "      <td>4391.009766</td>\n",
              "      <td>4289.490234</td>\n",
              "      <td>4326.810059</td>\n",
              "      <td>4291.450195</td>\n",
              "      <td>0.0</td>\n",
              "      <td>4291.450195</td>\n",
              "    </tr>\n",
              "    <tr>\n",
              "      <th>1997-07-08</th>\n",
              "      <td>4313.000000</td>\n",
              "      <td>4252.490234</td>\n",
              "      <td>4285.649902</td>\n",
              "      <td>4306.390137</td>\n",
              "      <td>0.0</td>\n",
              "      <td>4306.390137</td>\n",
              "    </tr>\n",
              "    <tr>\n",
              "      <th>1997-07-09</th>\n",
              "      <td>4404.830078</td>\n",
              "      <td>4315.419922</td>\n",
              "      <td>4315.419922</td>\n",
              "      <td>4404.689941</td>\n",
              "      <td>0.0</td>\n",
              "      <td>4404.689941</td>\n",
              "    </tr>\n",
              "    <tr>\n",
              "      <th>1997-07-10</th>\n",
              "      <td>4448.060059</td>\n",
              "      <td>4376.109863</td>\n",
              "      <td>4413.390137</td>\n",
              "      <td>4378.370117</td>\n",
              "      <td>0.0</td>\n",
              "      <td>4378.370117</td>\n",
              "    </tr>\n",
              "    <tr>\n",
              "      <th>1997-07-11</th>\n",
              "      <td>4372.750000</td>\n",
              "      <td>4301.930176</td>\n",
              "      <td>4372.750000</td>\n",
              "      <td>4321.979980</td>\n",
              "      <td>0.0</td>\n",
              "      <td>4321.979980</td>\n",
              "    </tr>\n",
              "    <tr>\n",
              "      <th>1997-07-14</th>\n",
              "      <td>4251.700195</td>\n",
              "      <td>4182.419922</td>\n",
              "      <td>4251.700195</td>\n",
              "      <td>4225.020020</td>\n",
              "      <td>0.0</td>\n",
              "      <td>4225.020020</td>\n",
              "    </tr>\n",
              "  </tbody>\n",
              "</table>\n",
              "</div>"
            ],
            "text/plain": [
              "                   High          Low  ...  Volume    Adj Close\n",
              "Date                                  ...                     \n",
              "1997-07-01  4301.770020  4247.660156  ...     0.0  4300.859863\n",
              "1997-07-02  4395.310059  4295.399902  ...     0.0  4333.899902\n",
              "1997-07-03  4393.290039  4299.970215  ...     0.0  4323.459961\n",
              "1997-07-04  4347.589844  4300.580078  ...     0.0  4323.819824\n",
              "1997-07-07  4391.009766  4289.490234  ...     0.0  4291.450195\n",
              "1997-07-08  4313.000000  4252.490234  ...     0.0  4306.390137\n",
              "1997-07-09  4404.830078  4315.419922  ...     0.0  4404.689941\n",
              "1997-07-10  4448.060059  4376.109863  ...     0.0  4378.370117\n",
              "1997-07-11  4372.750000  4301.930176  ...     0.0  4321.979980\n",
              "1997-07-14  4251.700195  4182.419922  ...     0.0  4225.020020\n",
              "\n",
              "[10 rows x 6 columns]"
            ]
          },
          "metadata": {
            "tags": []
          },
          "execution_count": 11
        }
      ]
    },
    {
      "cell_type": "code",
      "metadata": {
        "id": "a19EGsp7j9qT"
      },
      "source": [
        "training_set = close_prices.iloc[:, 1:2].values"
      ],
      "execution_count": 16,
      "outputs": []
    },
    {
      "cell_type": "code",
      "metadata": {
        "colab": {
          "base_uri": "https://localhost:8080/"
        },
        "id": "UoRdDyrlnPOk",
        "outputId": "ac79a981-7aac-4875-894a-e0812043b60d"
      },
      "source": [
        "from sklearn.preprocessing import MinMaxScaler\n",
        "sc = MinMaxScaler(feature_range = (0, 1))\n",
        "training_set_scaled = sc.fit_transform(training_set)\n",
        "print(training_set_scaled.shape)"
      ],
      "execution_count": 18,
      "outputs": [
        {
          "output_type": "stream",
          "text": [
            "(5294, 1)\n"
          ],
          "name": "stdout"
        }
      ]
    },
    {
      "cell_type": "code",
      "metadata": {
        "id": "IPlqA12Wm9dd"
      },
      "source": [
        "features = []\n",
        "labels = []\n",
        "for i in range(60, stock_data_len):\n",
        "    features.append(training_set_scaled[i-60:i, 0])\n",
        "    labels.append(training_set_scaled[i, 0])\n",
        "\n",
        "features = np.array(features)\n",
        "labels = np.array(labels)\n",
        "\n",
        "features = np.reshape(features, (features.shape[0], features.shape[1], 1))"
      ],
      "execution_count": 19,
      "outputs": []
    },
    {
      "cell_type": "code",
      "metadata": {
        "colab": {
          "base_uri": "https://localhost:8080/"
        },
        "id": "h3o5sDJgkBab",
        "outputId": "0c6a5af6-a81a-4e0d-c7e1-731c43d3a7a2"
      },
      "source": [
        "print(features.shape)"
      ],
      "execution_count": 20,
      "outputs": [
        {
          "output_type": "stream",
          "text": [
            "(5234, 60, 1)\n"
          ],
          "name": "stdout"
        }
      ]
    },
    {
      "cell_type": "code",
      "metadata": {
        "id": "p4PS0IhPlB3R"
      },
      "source": [
        "features = []\n",
        "labels = []\n",
        "for i in range(60, stock_data_len):\n",
        "    features.append(training_set_scaled[i-60:i, 0])\n",
        "    labels.append(training_set_scaled[i, 0])\n",
        "\n",
        "features = np.array(features)\n",
        "labels = np.array(labels)\n",
        "\n",
        "features = np.reshape(features, (features.shape[0], features.shape[1], 1))"
      ],
      "execution_count": 21,
      "outputs": []
    },
    {
      "cell_type": "code",
      "metadata": {
        "colab": {
          "base_uri": "https://localhost:8080/"
        },
        "id": "Lj1GQs-ckFpr",
        "outputId": "bc4c97d3-629d-4c47-b343-bc69661d146a"
      },
      "source": [
        "from sklearn.preprocessing import MinMaxScaler\n",
        "sc = MinMaxScaler(feature_range = (0, 1))\n",
        "training_set_scaled = sc.fit_transform(training_set)\n",
        "print(training_set_scaled.shape)"
      ],
      "execution_count": 22,
      "outputs": [
        {
          "output_type": "stream",
          "text": [
            "(5294, 1)\n"
          ],
          "name": "stdout"
        }
      ]
    },
    {
      "cell_type": "code",
      "metadata": {
        "colab": {
          "base_uri": "https://localhost:8080/"
        },
        "id": "8iSHszrSkpPu",
        "outputId": "8505df9e-2fe3-4bae-ebc2-87a54c10fc48"
      },
      "source": [
        "!pip install tensorflow"
      ],
      "execution_count": 22,
      "outputs": [
        {
          "output_type": "stream",
          "text": [
            "Requirement already satisfied: tensorflow in /usr/local/lib/python3.7/dist-packages (2.5.0)\n",
            "Requirement already satisfied: six~=1.15.0 in /usr/local/lib/python3.7/dist-packages (from tensorflow) (1.15.0)\n",
            "Requirement already satisfied: termcolor~=1.1.0 in /usr/local/lib/python3.7/dist-packages (from tensorflow) (1.1.0)\n",
            "Requirement already satisfied: grpcio~=1.34.0 in /usr/local/lib/python3.7/dist-packages (from tensorflow) (1.34.1)\n",
            "Requirement already satisfied: typing-extensions~=3.7.4 in /usr/local/lib/python3.7/dist-packages (from tensorflow) (3.7.4.3)\n",
            "Requirement already satisfied: keras-preprocessing~=1.1.2 in /usr/local/lib/python3.7/dist-packages (from tensorflow) (1.1.2)\n",
            "Requirement already satisfied: h5py~=3.1.0 in /usr/local/lib/python3.7/dist-packages (from tensorflow) (3.1.0)\n",
            "Requirement already satisfied: google-pasta~=0.2 in /usr/local/lib/python3.7/dist-packages (from tensorflow) (0.2.0)\n",
            "Requirement already satisfied: opt-einsum~=3.3.0 in /usr/local/lib/python3.7/dist-packages (from tensorflow) (3.3.0)\n",
            "Requirement already satisfied: tensorboard~=2.5 in /usr/local/lib/python3.7/dist-packages (from tensorflow) (2.5.0)\n",
            "Requirement already satisfied: gast==0.4.0 in /usr/local/lib/python3.7/dist-packages (from tensorflow) (0.4.0)\n",
            "Requirement already satisfied: tensorflow-estimator<2.6.0,>=2.5.0rc0 in /usr/local/lib/python3.7/dist-packages (from tensorflow) (2.5.0)\n",
            "Requirement already satisfied: wheel~=0.35 in /usr/local/lib/python3.7/dist-packages (from tensorflow) (0.36.2)\n",
            "Requirement already satisfied: flatbuffers~=1.12.0 in /usr/local/lib/python3.7/dist-packages (from tensorflow) (1.12)\n",
            "Requirement already satisfied: wrapt~=1.12.1 in /usr/local/lib/python3.7/dist-packages (from tensorflow) (1.12.1)\n",
            "Requirement already satisfied: absl-py~=0.10 in /usr/local/lib/python3.7/dist-packages (from tensorflow) (0.12.0)\n",
            "Requirement already satisfied: keras-nightly~=2.5.0.dev in /usr/local/lib/python3.7/dist-packages (from tensorflow) (2.5.0.dev2021032900)\n",
            "Requirement already satisfied: numpy~=1.19.2 in /usr/local/lib/python3.7/dist-packages (from tensorflow) (1.19.5)\n",
            "Requirement already satisfied: protobuf>=3.9.2 in /usr/local/lib/python3.7/dist-packages (from tensorflow) (3.12.4)\n",
            "Requirement already satisfied: astunparse~=1.6.3 in /usr/local/lib/python3.7/dist-packages (from tensorflow) (1.6.3)\n",
            "Requirement already satisfied: cached-property; python_version < \"3.8\" in /usr/local/lib/python3.7/dist-packages (from h5py~=3.1.0->tensorflow) (1.5.2)\n",
            "Requirement already satisfied: markdown>=2.6.8 in /usr/local/lib/python3.7/dist-packages (from tensorboard~=2.5->tensorflow) (3.3.4)\n",
            "Requirement already satisfied: setuptools>=41.0.0 in /usr/local/lib/python3.7/dist-packages (from tensorboard~=2.5->tensorflow) (57.0.0)\n",
            "Requirement already satisfied: google-auth-oauthlib<0.5,>=0.4.1 in /usr/local/lib/python3.7/dist-packages (from tensorboard~=2.5->tensorflow) (0.4.4)\n",
            "Requirement already satisfied: requests<3,>=2.21.0 in /usr/local/lib/python3.7/dist-packages (from tensorboard~=2.5->tensorflow) (2.23.0)\n",
            "Requirement already satisfied: tensorboard-data-server<0.7.0,>=0.6.0 in /usr/local/lib/python3.7/dist-packages (from tensorboard~=2.5->tensorflow) (0.6.1)\n",
            "Requirement already satisfied: tensorboard-plugin-wit>=1.6.0 in /usr/local/lib/python3.7/dist-packages (from tensorboard~=2.5->tensorflow) (1.8.0)\n",
            "Requirement already satisfied: werkzeug>=0.11.15 in /usr/local/lib/python3.7/dist-packages (from tensorboard~=2.5->tensorflow) (1.0.1)\n",
            "Requirement already satisfied: google-auth<2,>=1.6.3 in /usr/local/lib/python3.7/dist-packages (from tensorboard~=2.5->tensorflow) (1.31.0)\n",
            "Requirement already satisfied: importlib-metadata; python_version < \"3.8\" in /usr/local/lib/python3.7/dist-packages (from markdown>=2.6.8->tensorboard~=2.5->tensorflow) (4.5.0)\n",
            "Requirement already satisfied: requests-oauthlib>=0.7.0 in /usr/local/lib/python3.7/dist-packages (from google-auth-oauthlib<0.5,>=0.4.1->tensorboard~=2.5->tensorflow) (1.3.0)\n",
            "Requirement already satisfied: urllib3!=1.25.0,!=1.25.1,<1.26,>=1.21.1 in /usr/local/lib/python3.7/dist-packages (from requests<3,>=2.21.0->tensorboard~=2.5->tensorflow) (1.24.3)\n",
            "Requirement already satisfied: chardet<4,>=3.0.2 in /usr/local/lib/python3.7/dist-packages (from requests<3,>=2.21.0->tensorboard~=2.5->tensorflow) (3.0.4)\n",
            "Requirement already satisfied: certifi>=2017.4.17 in /usr/local/lib/python3.7/dist-packages (from requests<3,>=2.21.0->tensorboard~=2.5->tensorflow) (2021.5.30)\n",
            "Requirement already satisfied: idna<3,>=2.5 in /usr/local/lib/python3.7/dist-packages (from requests<3,>=2.21.0->tensorboard~=2.5->tensorflow) (2.10)\n",
            "Requirement already satisfied: cachetools<5.0,>=2.0.0 in /usr/local/lib/python3.7/dist-packages (from google-auth<2,>=1.6.3->tensorboard~=2.5->tensorflow) (4.2.2)\n",
            "Requirement already satisfied: pyasn1-modules>=0.2.1 in /usr/local/lib/python3.7/dist-packages (from google-auth<2,>=1.6.3->tensorboard~=2.5->tensorflow) (0.2.8)\n",
            "Requirement already satisfied: rsa<5,>=3.1.4; python_version >= \"3.6\" in /usr/local/lib/python3.7/dist-packages (from google-auth<2,>=1.6.3->tensorboard~=2.5->tensorflow) (4.7.2)\n",
            "Requirement already satisfied: zipp>=0.5 in /usr/local/lib/python3.7/dist-packages (from importlib-metadata; python_version < \"3.8\"->markdown>=2.6.8->tensorboard~=2.5->tensorflow) (3.4.1)\n",
            "Requirement already satisfied: oauthlib>=3.0.0 in /usr/local/lib/python3.7/dist-packages (from requests-oauthlib>=0.7.0->google-auth-oauthlib<0.5,>=0.4.1->tensorboard~=2.5->tensorflow) (3.1.1)\n",
            "Requirement already satisfied: pyasn1<0.5.0,>=0.4.6 in /usr/local/lib/python3.7/dist-packages (from pyasn1-modules>=0.2.1->google-auth<2,>=1.6.3->tensorboard~=2.5->tensorflow) (0.4.8)\n"
          ],
          "name": "stdout"
        }
      ]
    },
    {
      "cell_type": "code",
      "metadata": {
        "colab": {
          "base_uri": "https://localhost:8080/",
          "height": 995
        },
        "id": "1CMh5jCXlip6",
        "outputId": "d1a29591-7513-47a9-e08c-462bbb232c5f"
      },
      "source": [
        "!pip uninstall -y tensorflow\n",
        "!pip install tensorflow==1.15"
      ],
      "execution_count": 30,
      "outputs": [
        {
          "output_type": "stream",
          "text": [
            "Uninstalling tensorflow-2.5.0:\n",
            "  Successfully uninstalled tensorflow-2.5.0\n",
            "Collecting tensorflow==1.15\n",
            "\u001b[?25l  Downloading https://files.pythonhosted.org/packages/92/2b/e3af15221da9ff323521565fa3324b0d7c7c5b1d7a8ca66984c8d59cb0ce/tensorflow-1.15.0-cp37-cp37m-manylinux2010_x86_64.whl (412.3MB)\n",
            "\u001b[K     |████████████████████████████████| 412.3MB 19kB/s \n",
            "\u001b[?25hCollecting tensorboard<1.16.0,>=1.15.0\n",
            "\u001b[?25l  Downloading https://files.pythonhosted.org/packages/1e/e9/d3d747a97f7188f48aa5eda486907f3b345cd409f0a0850468ba867db246/tensorboard-1.15.0-py3-none-any.whl (3.8MB)\n",
            "\u001b[K     |████████████████████████████████| 3.8MB 29.9MB/s \n",
            "\u001b[?25hRequirement already satisfied: protobuf>=3.6.1 in /usr/local/lib/python3.7/dist-packages (from tensorflow==1.15) (3.12.4)\n",
            "Requirement already satisfied: wheel>=0.26 in /usr/local/lib/python3.7/dist-packages (from tensorflow==1.15) (0.36.2)\n",
            "Requirement already satisfied: six>=1.10.0 in /usr/local/lib/python3.7/dist-packages (from tensorflow==1.15) (1.15.0)\n",
            "Requirement already satisfied: keras-applications>=1.0.8 in /usr/local/lib/python3.7/dist-packages (from tensorflow==1.15) (1.0.8)\n",
            "Requirement already satisfied: absl-py>=0.7.0 in /usr/local/lib/python3.7/dist-packages (from tensorflow==1.15) (0.12.0)\n",
            "Collecting tensorflow-estimator==1.15.1\n",
            "\u001b[?25l  Downloading https://files.pythonhosted.org/packages/de/62/2ee9cd74c9fa2fa450877847ba560b260f5d0fb70ee0595203082dafcc9d/tensorflow_estimator-1.15.1-py2.py3-none-any.whl (503kB)\n",
            "\u001b[K     |████████████████████████████████| 512kB 37.7MB/s \n",
            "\u001b[?25hRequirement already satisfied: grpcio>=1.8.6 in /usr/local/lib/python3.7/dist-packages (from tensorflow==1.15) (1.34.1)\n",
            "Requirement already satisfied: keras-preprocessing>=1.0.5 in /usr/local/lib/python3.7/dist-packages (from tensorflow==1.15) (1.1.2)\n",
            "Requirement already satisfied: opt-einsum>=2.3.2 in /usr/local/lib/python3.7/dist-packages (from tensorflow==1.15) (3.3.0)\n",
            "Requirement already satisfied: astor>=0.6.0 in /usr/local/lib/python3.7/dist-packages (from tensorflow==1.15) (0.8.1)\n",
            "Requirement already satisfied: google-pasta>=0.1.6 in /usr/local/lib/python3.7/dist-packages (from tensorflow==1.15) (0.2.0)\n",
            "Requirement already satisfied: termcolor>=1.1.0 in /usr/local/lib/python3.7/dist-packages (from tensorflow==1.15) (1.1.0)\n",
            "Requirement already satisfied: wrapt>=1.11.1 in /usr/local/lib/python3.7/dist-packages (from tensorflow==1.15) (1.12.1)\n",
            "Requirement already satisfied: numpy<2.0,>=1.16.0 in /usr/local/lib/python3.7/dist-packages (from tensorflow==1.15) (1.19.5)\n",
            "Collecting gast==0.2.2\n",
            "  Downloading https://files.pythonhosted.org/packages/4e/35/11749bf99b2d4e3cceb4d55ca22590b0d7c2c62b9de38ac4a4a7f4687421/gast-0.2.2.tar.gz\n",
            "Requirement already satisfied: markdown>=2.6.8 in /usr/local/lib/python3.7/dist-packages (from tensorboard<1.16.0,>=1.15.0->tensorflow==1.15) (3.3.4)\n",
            "Requirement already satisfied: setuptools>=41.0.0 in /usr/local/lib/python3.7/dist-packages (from tensorboard<1.16.0,>=1.15.0->tensorflow==1.15) (57.0.0)\n",
            "Requirement already satisfied: werkzeug>=0.11.15 in /usr/local/lib/python3.7/dist-packages (from tensorboard<1.16.0,>=1.15.0->tensorflow==1.15) (1.0.1)\n",
            "Requirement already satisfied: h5py in /usr/local/lib/python3.7/dist-packages (from keras-applications>=1.0.8->tensorflow==1.15) (3.1.0)\n",
            "Requirement already satisfied: importlib-metadata; python_version < \"3.8\" in /usr/local/lib/python3.7/dist-packages (from markdown>=2.6.8->tensorboard<1.16.0,>=1.15.0->tensorflow==1.15) (4.5.0)\n",
            "Requirement already satisfied: cached-property; python_version < \"3.8\" in /usr/local/lib/python3.7/dist-packages (from h5py->keras-applications>=1.0.8->tensorflow==1.15) (1.5.2)\n",
            "Requirement already satisfied: zipp>=0.5 in /usr/local/lib/python3.7/dist-packages (from importlib-metadata; python_version < \"3.8\"->markdown>=2.6.8->tensorboard<1.16.0,>=1.15.0->tensorflow==1.15) (3.4.1)\n",
            "Requirement already satisfied: typing-extensions>=3.6.4; python_version < \"3.8\" in /usr/local/lib/python3.7/dist-packages (from importlib-metadata; python_version < \"3.8\"->markdown>=2.6.8->tensorboard<1.16.0,>=1.15.0->tensorflow==1.15) (3.7.4.3)\n",
            "Building wheels for collected packages: gast\n",
            "  Building wheel for gast (setup.py) ... \u001b[?25l\u001b[?25hdone\n",
            "  Created wheel for gast: filename=gast-0.2.2-cp37-none-any.whl size=7557 sha256=403a88105d643eb9d5a820f92c676670dee2445a5c7eff454d2773dbec3f2293\n",
            "  Stored in directory: /root/.cache/pip/wheels/5c/2e/7e/a1d4d4fcebe6c381f378ce7743a3ced3699feb89bcfbdadadd\n",
            "Successfully built gast\n",
            "\u001b[31mERROR: tensorflow-probability 0.12.1 has requirement gast>=0.3.2, but you'll have gast 0.2.2 which is incompatible.\u001b[0m\n",
            "\u001b[31mERROR: kapre 0.3.5 has requirement tensorflow>=2.0.0, but you'll have tensorflow 1.15.0 which is incompatible.\u001b[0m\n",
            "Installing collected packages: tensorboard, tensorflow-estimator, gast, tensorflow\n",
            "  Found existing installation: tensorboard 2.5.0\n",
            "    Uninstalling tensorboard-2.5.0:\n",
            "      Successfully uninstalled tensorboard-2.5.0\n",
            "  Found existing installation: tensorflow-estimator 2.5.0\n",
            "    Uninstalling tensorflow-estimator-2.5.0:\n",
            "      Successfully uninstalled tensorflow-estimator-2.5.0\n",
            "  Found existing installation: gast 0.4.0\n",
            "    Uninstalling gast-0.4.0:\n",
            "      Successfully uninstalled gast-0.4.0\n",
            "Successfully installed gast-0.2.2 tensorboard-1.15.0 tensorflow-1.15.0 tensorflow-estimator-1.15.1\n"
          ],
          "name": "stdout"
        },
        {
          "output_type": "display_data",
          "data": {
            "application/vnd.colab-display-data+json": {
              "pip_warning": {
                "packages": [
                  "gast"
                ]
              }
            }
          },
          "metadata": {
            "tags": []
          }
        }
      ]
    },
    {
      "cell_type": "code",
      "metadata": {
        "id": "PbBLxkqglOC7"
      },
      "source": [
        "import tensorflow as tf"
      ],
      "execution_count": 23,
      "outputs": []
    },
    {
      "cell_type": "code",
      "metadata": {
        "colab": {
          "base_uri": "https://localhost:8080/"
        },
        "id": "CTjK-v87kMY3",
        "outputId": "489b3ebd-8b9c-4f53-a89a-da00b10e83a9"
      },
      "source": [
        "\n",
        "\n",
        "model = tf.keras.models.Sequential([\n",
        "    tf.keras.layers.LSTM(units = 50, return_sequences = True, input_shape = (features.shape[1], 1)),\n",
        "    tf.keras.layers.Dropout(0.2),\n",
        "    tf.keras.layers.LSTM(units = 50, return_sequences = True),\n",
        "    tf.keras.layers.Dropout(0.2),\n",
        "    tf.keras.layers.LSTM(units = 50, return_sequences = True),\n",
        "    tf.keras.layers.Dropout(0.2),\n",
        "    tf.keras.layers.LSTM(units = 50),\n",
        "    tf.keras.layers.Dropout(0.2),\n",
        "    tf.keras.layers.Dense(units = 1)\n",
        "])"
      ],
      "execution_count": 24,
      "outputs": [
        {
          "output_type": "stream",
          "text": [
            "WARNING:tensorflow:From /usr/local/lib/python3.7/dist-packages/tensorflow_core/python/ops/resource_variable_ops.py:1630: calling BaseResourceVariable.__init__ (from tensorflow.python.ops.resource_variable_ops) with constraint is deprecated and will be removed in a future version.\n",
            "Instructions for updating:\n",
            "If using Keras pass *_constraint arguments to layers.\n"
          ],
          "name": "stdout"
        }
      ]
    },
    {
      "cell_type": "code",
      "metadata": {
        "colab": {
          "base_uri": "https://localhost:8080/"
        },
        "id": "L18Y_u2ZkSs_",
        "outputId": "6e866618-1bf7-4f55-db91-01a25a6ad3f2"
      },
      "source": [
        "print(model.summary())"
      ],
      "execution_count": 25,
      "outputs": [
        {
          "output_type": "stream",
          "text": [
            "Model: \"sequential\"\n",
            "_________________________________________________________________\n",
            "Layer (type)                 Output Shape              Param #   \n",
            "=================================================================\n",
            "lstm (LSTM)                  (None, 60, 50)            10400     \n",
            "_________________________________________________________________\n",
            "dropout (Dropout)            (None, 60, 50)            0         \n",
            "_________________________________________________________________\n",
            "lstm_1 (LSTM)                (None, 60, 50)            20200     \n",
            "_________________________________________________________________\n",
            "dropout_1 (Dropout)          (None, 60, 50)            0         \n",
            "_________________________________________________________________\n",
            "lstm_2 (LSTM)                (None, 60, 50)            20200     \n",
            "_________________________________________________________________\n",
            "dropout_2 (Dropout)          (None, 60, 50)            0         \n",
            "_________________________________________________________________\n",
            "lstm_3 (LSTM)                (None, 50)                20200     \n",
            "_________________________________________________________________\n",
            "dropout_3 (Dropout)          (None, 50)                0         \n",
            "_________________________________________________________________\n",
            "dense (Dense)                (None, 1)                 51        \n",
            "=================================================================\n",
            "Total params: 71,051\n",
            "Trainable params: 71,051\n",
            "Non-trainable params: 0\n",
            "_________________________________________________________________\n",
            "None\n"
          ],
          "name": "stdout"
        }
      ]
    },
    {
      "cell_type": "code",
      "metadata": {
        "id": "WqLtWgLZnhZl"
      },
      "source": [
        "model.compile(optimizer = 'adam', loss = 'mean_squared_error')"
      ],
      "execution_count": 26,
      "outputs": []
    },
    {
      "cell_type": "code",
      "metadata": {
        "colab": {
          "base_uri": "https://localhost:8080/"
        },
        "id": "FeShdOndnrgi",
        "outputId": "c334b5e5-2c2b-4a46-9b98-793874d46b3e"
      },
      "source": [
        "from time import time\n",
        "start = time()\n",
        "history = model.fit(features, labels, epochs = 20, batch_size = 32, verbose = 1)\n",
        "end = time()"
      ],
      "execution_count": 27,
      "outputs": [
        {
          "output_type": "stream",
          "text": [
            "WARNING:tensorflow:From /usr/local/lib/python3.7/dist-packages/tensorflow_core/python/ops/math_grad.py:1424: where (from tensorflow.python.ops.array_ops) is deprecated and will be removed in a future version.\n",
            "Instructions for updating:\n",
            "Use tf.where in 2.0, which has the same broadcast rule as np.where\n",
            "Train on 5234 samples\n",
            "Epoch 1/20\n",
            "5234/5234 [==============================] - 46s 9ms/sample - loss: 0.0077\n",
            "Epoch 2/20\n",
            "5234/5234 [==============================] - 43s 8ms/sample - loss: 0.0021\n",
            "Epoch 3/20\n",
            "5234/5234 [==============================] - 42s 8ms/sample - loss: 0.0019\n",
            "Epoch 4/20\n",
            "5234/5234 [==============================] - 43s 8ms/sample - loss: 0.0017\n",
            "Epoch 5/20\n",
            "5234/5234 [==============================] - 43s 8ms/sample - loss: 0.0016\n",
            "Epoch 6/20\n",
            "5234/5234 [==============================] - 43s 8ms/sample - loss: 0.0014\n",
            "Epoch 7/20\n",
            "5234/5234 [==============================] - 43s 8ms/sample - loss: 0.0015\n",
            "Epoch 8/20\n",
            "5234/5234 [==============================] - 43s 8ms/sample - loss: 0.0012\n",
            "Epoch 9/20\n",
            "5234/5234 [==============================] - 43s 8ms/sample - loss: 0.0013\n",
            "Epoch 10/20\n",
            "5234/5234 [==============================] - 43s 8ms/sample - loss: 0.0012\n",
            "Epoch 11/20\n",
            "5234/5234 [==============================] - 43s 8ms/sample - loss: 0.0012\n",
            "Epoch 12/20\n",
            "5234/5234 [==============================] - 43s 8ms/sample - loss: 0.0011\n",
            "Epoch 13/20\n",
            "5234/5234 [==============================] - 43s 8ms/sample - loss: 9.9277e-04\n",
            "Epoch 14/20\n",
            "5234/5234 [==============================] - 43s 8ms/sample - loss: 9.8695e-04\n",
            "Epoch 15/20\n",
            "5234/5234 [==============================] - 43s 8ms/sample - loss: 9.0130e-04\n",
            "Epoch 16/20\n",
            "5234/5234 [==============================] - 42s 8ms/sample - loss: 0.0012\n",
            "Epoch 17/20\n",
            "5234/5234 [==============================] - 42s 8ms/sample - loss: 9.5995e-04\n",
            "Epoch 18/20\n",
            "5234/5234 [==============================] - 43s 8ms/sample - loss: 9.4760e-04\n",
            "Epoch 19/20\n",
            "5234/5234 [==============================] - 43s 8ms/sample - loss: 9.1014e-04\n",
            "Epoch 20/20\n",
            "5234/5234 [==============================] - 43s 8ms/sample - loss: 8.2713e-04\n"
          ],
          "name": "stdout"
        }
      ]
    },
    {
      "cell_type": "code",
      "metadata": {
        "colab": {
          "base_uri": "https://localhost:8080/",
          "height": 421
        },
        "id": "yhx6wmWYnuGj",
        "outputId": "ba32fe0b-3a84-448c-ce80-bc80124be96a"
      },
      "source": [
        "testing_start_date = '2019-01-01'\n",
        "testing_end_date = '2019-04-10'\n",
        "\n",
        "test_stock_data = data.get_data_yahoo(tickers, testing_start_date, testing_end_date)\n",
        "\n",
        "test_stock_data.tail()\n",
        "\n",
        "test_stock_data_processed = test_stock_data.iloc[:, 1:2].values\n",
        "print(test_stock_data_processed.shape)\n",
        "\n",
        "all_stock_data = pd.concat((stock_data['Close'], test_stock_data['Close']), axis = 0)\n",
        "\n",
        "inputs = all_stock_data[len(all_stock_data) - len(test_stock_data) - 60:].values\n",
        "inputs = inputs.reshape(-1,1)\n",
        "inputs = sc.transform(inputs)\n",
        "\n",
        "X_test = []\n",
        "for i in range(60, 129):\n",
        "    X_test.append(inputs[i-60:i, 0])\n",
        "\n",
        "X_test = np.array(X_test)\n",
        "X_test = np.reshape(X_test, (X_test.shape[0], X_test.shape[1], 1))\n",
        "predicted_stock_price = model.predict(X_test)\n",
        "predicted_stock_price = sc.inverse_transform(predicted_stock_price)\n",
        "\n",
        "plt.figure(figsize=(10,6))  \n",
        "plt.plot(test_stock_data_processed, color='blue', label='Actual Apple Sensex')  \n",
        "plt.plot(predicted_stock_price , color='red', label='Predicted Sensex')  \n",
        "plt.title('BSE SENSEX')  \n",
        "plt.xlabel('Date')  \n",
        "plt.ylabel('Sensex')  \n",
        "plt.legend()  \n",
        "plt.show()  "
      ],
      "execution_count": 28,
      "outputs": [
        {
          "output_type": "stream",
          "text": [
            "(68, 1)\n"
          ],
          "name": "stdout"
        },
        {
          "output_type": "display_data",
          "data": {
            "image/png": "[encoded data removed]",
            "text/plain": [
              "<Figure size 720x432 with 1 Axes>"
            ]
          },
          "metadata": {
            "tags": [],
            "needs_background": "light"
          }
        }
      ]
    },
    {
      "cell_type": "code",
      "metadata": {
        "id": "qu0-1NKrrIEP"
      },
      "source": [
        ""
      ],
      "execution_count": null,
      "outputs": []
    }
  ]
}
